{
 "cells": [
  {
   "cell_type": "code",
   "execution_count": 9,
   "metadata": {},
   "outputs": [],
   "source": [
    "import pandas as pd\n",
    "import numpy as np \n",
    "import matplotlib.pyplot as plt\n",
    "from scipy.optimize import curve_fit\n"
   ]
  },
  {
   "cell_type": "code",
   "execution_count": 16,
   "metadata": {},
   "outputs": [],
   "source": [
    "tensao_res = 0.621\n",
    "tensao_lamp = 8.01 \n",
    "res_resistor = 1\n",
    "temp0 = 25\n",
    "\n",
    "corrente = tensao_res/res_resistor\n",
    "res_lampada = tensao_lamp /corrente\n",
    "\n",
    "temp = temp0 * (res_lampada/res_resistor)**(1/1.24)\n",
    "\n"
   ]
  },
  {
   "cell_type": "code",
   "execution_count": 10,
   "metadata": {},
   "outputs": [],
   "source": [
    "data = pd.read_csv(\"CN_Eq1_m6_1.txt\",skiprows = 2,header = None, delimiter = '\\t', names=['col1','col2'])\n",
    "data = data.apply(lambda x: x.str.replace(',','.'))\n",
    "\n",
    "data['col1'] = pd.to_numeric(data['col1'],errors='coerce')\n",
    "data['col2'] = pd.to_numeric(data['col2'],errors='coerce')\n",
    "\n",
    "x = (data['col1']/60)*(np.pi/180)\n",
    "x = (0.001/300)*np.sin(x)\n",
    "\n",
    "y = data['col2']"
   ]
  },
  {
   "cell_type": "code",
   "execution_count": 11,
   "metadata": {},
   "outputs": [
    {
     "data": {
      "text/plain": [
       "[<matplotlib.lines.Line2D at 0x7ff224c69640>]"
      ]
     },
     "execution_count": 11,
     "metadata": {},
     "output_type": "execute_result"
    },
    {
     "data": {
      "image/png": "[encoded data removed]",
      "text/plain": [
       "<Figure size 432x288 with 1 Axes>"
      ]
     },
     "metadata": {
      "needs_background": "light"
     },
     "output_type": "display_data"
    }
   ],
   "source": [
    "plt.plot(x,y)"
   ]
  },
  {
   "cell_type": "code",
   "execution_count": 183,
   "metadata": {},
   "outputs": [
    {
     "name": "stdout",
     "output_type": "stream",
     "text": [
      "0           NaN\n",
      "1           NaN\n",
      "2           NaN\n",
      "3           NaN\n",
      "4           NaN\n",
      "         ...   \n",
      "312    0.000003\n",
      "313    0.000003\n",
      "314    0.000003\n",
      "315    0.000003\n",
      "316    0.000003\n",
      "Name: col1, Length: 317, dtype: float64 0      0.000000e+00\n",
      "1      0.000000e+00\n",
      "2      0.000000e+00\n",
      "3      0.000000e+00\n",
      "4      0.000000e+00\n",
      "           ...     \n",
      "312    8.539173e-12\n",
      "313    8.539173e-12\n",
      "314    8.539173e-12\n",
      "315    8.539173e-12\n",
      "316    8.539173e-12\n",
      "Name: col1, Length: 317, dtype: float64\n"
     ]
    },
    {
     "name": "stderr",
     "output_type": "stream",
     "text": [
      "/home/hpereira/.local/lib/python3.8/site-packages/pandas/core/series.py:726: RuntimeWarning: overflow encountered in exp\n",
      "  result = getattr(ufunc, method)(*inputs, **kwargs)\n"
     ]
    }
   ],
   "source": [
    "print(planck_func(x, *popt),x)"
   ]
  },
  {
   "cell_type": "code",
   "execution_count": 185,
   "metadata": {},
   "outputs": [
    {
     "name": "stderr",
     "output_type": "stream",
     "text": [
      "/home/hpereira/.local/lib/python3.8/site-packages/pandas/core/series.py:726: RuntimeWarning: overflow encountered in exp\n",
      "  result = getattr(ufunc, method)(*inputs, **kwargs)\n",
      "/home/hpereira/.local/lib/python3.8/site-packages/scipy/optimize/minpack.py:828: OptimizeWarning: Covariance of the parameters could not be estimated\n",
      "  warnings.warn('Covariance of the parameters could not be estimated',\n"
     ]
    }
   ],
   "source": [
    "def planck_func(x, norm, h, kt, fundo):\n",
    "    \n",
    "popt, pcov = curve_fit(planck_func, x, y, p0=[norm, h, kt, fundo])"
   ]
  },
  {
   "cell_type": "code",
   "execution_count": 186,
   "metadata": {},
   "outputs": [
    {
     "name": "stdout",
     "output_type": "stream",
     "text": [
      "100.0 6.626e-34 4.14e-21 2.562682099063958e-06\n"
     ]
    }
   ],
   "source": [
    "print(*popt)"
   ]
  },
  {
   "cell_type": "code",
   "execution_count": 187,
   "metadata": {},
   "outputs": [
    {
     "name": "stderr",
     "output_type": "stream",
     "text": [
      "/home/hpereira/.local/lib/python3.8/site-packages/pandas/core/series.py:726: RuntimeWarning: overflow encountered in exp\n",
      "  result = getattr(ufunc, method)(*inputs, **kwargs)\n"
     ]
    },
    {
     "data": {
      "text/plain": [
       "[<matplotlib.lines.Line2D at 0x7fa672f56070>]"
      ]
     },
     "execution_count": 187,
     "metadata": {},
     "output_type": "execute_result"
    },
    {
     "data": {
      "image/png": "[encoded data removed]",
      "text/plain": [
       "<Figure size 432x288 with 1 Axes>"
      ]
     },
     "metadata": {
      "needs_background": "light"
     },
     "output_type": "display_data"
    }
   ],
   "source": [
    "plt.plot(x,planck_func(x, *popt))"
   ]
  },
  {
   "cell_type": "code",
   "execution_count": null,
   "metadata": {},
   "outputs": [],
   "source": []
  }
 ],
 "metadata": {
  "kernelspec": {
   "display_name": "Python 3.7.5 64-bit",
   "language": "python",
   "name": "python37564bit2b1bb86da58740369ec8c48d32735830"
  },
  "language_info": {
   "codemirror_mode": {
    "name": "ipython",
    "version": 3
   },
   "file_extension": ".py",
   "mimetype": "text/x-python",
   "name": "python",
   "nbconvert_exporter": "python",
   "pygments_lexer": "ipython3",
   "version": "3.8.2"
  }
 },
 "nbformat": 4,
 "nbformat_minor": 4
}
