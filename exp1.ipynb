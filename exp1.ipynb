{
 "cells": [
  {
   "cell_type": "code",
   "execution_count": 1,
   "metadata": {},
   "outputs": [],
   "source": [
    "import pandas as pd\n",
    "import numpy as np \n",
    "import matplotlib.pyplot as plt\n",
    "from scipy.optimize import curve_fit\n",
    "from scipy.constants import h,k,c\n",
    "\n",
    "#calculando a temperatura\n",
    "tensao_res = [0.621, 0.675, 0.705, 0.747, 0.786]\n",
    "tensao_lamp = [8.01, 9, 9.89, 11.12, 12.31]\n",
    "res_resistor = 1\n",
    "temp0 = 21.1+273\n",
    "\n",
    "corrente = np.divide(tensao_res,res_resistor) #tensao_res/res_resistor\n",
    "res_lampada = np.divide(tensao_lamp,corrente) #tensao_lamp /corrente\n",
    "\n",
    "temp = (temp0 * np.power((res_lampada/res_resistor),(1/1.24)))+273"
   ]
  },
  {
   "cell_type": "code",
   "execution_count": 2,
   "metadata": {},
   "outputs": [
    {
     "data": {
      "text/plain": [
       "array([2585.55748608, 2648.21913358, 2747.57607938, 2868.90456665,\n",
       "       2977.40696771])"
      ]
     },
     "execution_count": 2,
     "metadata": {},
     "output_type": "execute_result"
    }
   ],
   "source": [
    "temp"
   ]
  },
  {
   "cell_type": "code",
   "execution_count": 5,
   "metadata": {},
   "outputs": [
    {
     "data": {
      "text/plain": [
       "1.2074197578587598"
      ]
     },
     "execution_count": 5,
     "metadata": {},
     "output_type": "execute_result"
    }
   ],
   "source": [
    "3594.98/temp[4]"
   ]
  },
  {
   "cell_type": "code",
   "execution_count": null,
   "metadata": {},
   "outputs": [],
   "source": []
  }
 ],
 "metadata": {
  "kernelspec": {
   "display_name": "Python 3.7.5 64-bit",
   "language": "python",
   "name": "python37564bit2b1bb86da58740369ec8c48d32735830"
  },
  "language_info": {
   "codemirror_mode": {
    "name": "ipython",
    "version": 3
   },
   "file_extension": ".py",
   "mimetype": "text/x-python",
   "name": "python",
   "nbconvert_exporter": "python",
   "pygments_lexer": "ipython3",
   "version": "3.8.2"
  }
 },
 "nbformat": 4,
 "nbformat_minor": 4
}
