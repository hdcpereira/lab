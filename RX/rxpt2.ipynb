{
 "cells": [
  {
   "cell_type": "code",
   "execution_count": 20,
   "metadata": {},
   "outputs": [],
   "source": [
    "import numpy as np \n",
    "import pandas as pd \n",
    "import matplotlib.pyplot as plt\n",
    "from scipy.signal import find_peaks\n",
    "from matplotlib.offsetbox import AnchoredText\n",
    "from scipy.signal import argrelextrema\n",
    "from scipy import stats\n",
    "\n",
    "\n",
    "d_inter = 0.282E-9\n",
    "h = 4.14E-15\n",
    "c = 3e8\n",
    "e = 1.602E-19"
   ]
  },
  {
   "cell_type": "code",
   "execution_count": 50,
   "metadata": {},
   "outputs": [],
   "source": [
    "data = pd.read_csv(\"eq2_M1_filtro_ZrMo.txt\",skiprows = 1,header = None, delimiter = '\\t', names=['theta','nofilter','zr','mo'])\n",
    "data['theta'] = data['theta'].str.replace(',','.')\n",
    "\n",
    "data['theta'] = pd.to_numeric(data['theta'], errors='coerce')\n",
    "data['theta_wavelength'] = 2*d_inter*np.sin(np.deg2rad(data['theta']))\n",
    "data['theta_eV'] = np.divide(4.13566743*10**(-15)*2.998*10**8,data['theta_wavelength'])\n",
    "data['sigma_theta_eV'] = np.deg2rad(0.05)*((h*c)/(2*d_inter))*(np.cos(np.deg2rad(data['theta']))/(np.sin(np.deg2rad(data['theta']))**2))\n",
    "\n",
    "data['nofilter'] = pd.to_numeric(data['nofilter'], errors='coerce')\n",
    "data['zr'] = pd.to_numeric(data['zr'], errors='coerce')\n",
    "data['mo'] = pd.to_numeric(data['mo'], errors='coerce')\n",
    "\n",
    "data['nofilter_zr'] = np.divide(data['nofilter'],data['zr'])\n",
    "data['sigma_nofilter_zr']= np.sqrt(np.divide(data['nofilter']**2, data['zr']**3)+np.divide(data['nofilter'], data['zr']**2))\n",
    "data['nofilter_mo'] = np.divide(data['nofilter'],data['mo'])\n",
    "data['sigma_nofilter_mo']= np.sqrt(np.divide(data['nofilter']**2, data['mo']**3)+np.divide(data['nofilter'], data['mo']**2))\n"
   ]
  },
  {
   "cell_type": "code",
   "execution_count": 51,
   "metadata": {},
   "outputs": [
    {
     "data": {
      "text/html": [
       "<div>\n",
       "<style scoped>\n",
       "    .dataframe tbody tr th:only-of-type {\n",
       "        vertical-align: middle;\n",
       "    }\n",
       "\n",
       "    .dataframe tbody tr th {\n",
       "        vertical-align: top;\n",
       "    }\n",
       "\n",
       "    .dataframe thead th {\n",
       "        text-align: right;\n",
       "    }\n",
       "</style>\n",
       "<table border=\"1\" class=\"dataframe\">\n",
       "  <thead>\n",
       "    <tr style=\"text-align: right;\">\n",
       "      <th></th>\n",
       "      <th>theta</th>\n",
       "      <th>nofilter</th>\n",
       "      <th>zr</th>\n",
       "      <th>mo</th>\n",
       "      <th>theta_wavelength</th>\n",
       "      <th>theta_eV</th>\n",
       "      <th>sigma_theta_eV</th>\n",
       "      <th>nofilter_zr</th>\n",
       "      <th>sigma_nofilter_zr</th>\n",
       "      <th>nofilter_mo</th>\n",
       "      <th>sigma_nofilter_mo</th>\n",
       "    </tr>\n",
       "  </thead>\n",
       "  <tbody>\n",
       "    <tr>\n",
       "      <th>0</th>\n",
       "      <td>2.5</td>\n",
       "      <td>2</td>\n",
       "      <td>3</td>\n",
       "      <td>4</td>\n",
       "      <td>2.460133e-11</td>\n",
       "      <td>50398.611377</td>\n",
       "      <td>1009.060467</td>\n",
       "      <td>0.666667</td>\n",
       "      <td>0.608581</td>\n",
       "      <td>0.50</td>\n",
       "      <td>0.433013</td>\n",
       "    </tr>\n",
       "    <tr>\n",
       "      <th>1</th>\n",
       "      <td>2.6</td>\n",
       "      <td>2</td>\n",
       "      <td>7</td>\n",
       "      <td>2</td>\n",
       "      <td>2.558473e-11</td>\n",
       "      <td>48461.458184</td>\n",
       "      <td>932.908927</td>\n",
       "      <td>0.285714</td>\n",
       "      <td>0.229081</td>\n",
       "      <td>1.00</td>\n",
       "      <td>1.000000</td>\n",
       "    </tr>\n",
       "    <tr>\n",
       "      <th>2</th>\n",
       "      <td>2.7</td>\n",
       "      <td>3</td>\n",
       "      <td>2</td>\n",
       "      <td>2</td>\n",
       "      <td>2.656804e-11</td>\n",
       "      <td>46667.845257</td>\n",
       "      <td>865.060952</td>\n",
       "      <td>1.500000</td>\n",
       "      <td>1.369306</td>\n",
       "      <td>1.50</td>\n",
       "      <td>1.369306</td>\n",
       "    </tr>\n",
       "    <tr>\n",
       "      <th>3</th>\n",
       "      <td>2.8</td>\n",
       "      <td>2</td>\n",
       "      <td>3</td>\n",
       "      <td>2</td>\n",
       "      <td>2.755127e-11</td>\n",
       "      <td>45002.393287</td>\n",
       "      <td>804.351772</td>\n",
       "      <td>0.666667</td>\n",
       "      <td>0.608581</td>\n",
       "      <td>1.00</td>\n",
       "      <td>1.000000</td>\n",
       "    </tr>\n",
       "    <tr>\n",
       "      <th>4</th>\n",
       "      <td>2.9</td>\n",
       "      <td>1</td>\n",
       "      <td>7</td>\n",
       "      <td>0</td>\n",
       "      <td>2.853442e-11</td>\n",
       "      <td>43451.844249</td>\n",
       "      <td>749.813914</td>\n",
       "      <td>0.142857</td>\n",
       "      <td>0.152721</td>\n",
       "      <td>inf</td>\n",
       "      <td>inf</td>\n",
       "    </tr>\n",
       "    <tr>\n",
       "      <th>...</th>\n",
       "      <td>...</td>\n",
       "      <td>...</td>\n",
       "      <td>...</td>\n",
       "      <td>...</td>\n",
       "      <td>...</td>\n",
       "      <td>...</td>\n",
       "      <td>...</td>\n",
       "      <td>...</td>\n",
       "      <td>...</td>\n",
       "      <td>...</td>\n",
       "      <td>...</td>\n",
       "    </tr>\n",
       "    <tr>\n",
       "      <th>91</th>\n",
       "      <td>11.6</td>\n",
       "      <td>65</td>\n",
       "      <td>16</td>\n",
       "      <td>2</td>\n",
       "      <td>1.134079e-10</td>\n",
       "      <td>10932.858962</td>\n",
       "      <td>46.558491</td>\n",
       "      <td>4.062500</td>\n",
       "      <td>1.133755</td>\n",
       "      <td>32.50</td>\n",
       "      <td>23.331845</td>\n",
       "    </tr>\n",
       "    <tr>\n",
       "      <th>92</th>\n",
       "      <td>11.7</td>\n",
       "      <td>53</td>\n",
       "      <td>22</td>\n",
       "      <td>5</td>\n",
       "      <td>1.143720e-10</td>\n",
       "      <td>10840.701576</td>\n",
       "      <td>45.760409</td>\n",
       "      <td>2.409091</td>\n",
       "      <td>0.610991</td>\n",
       "      <td>10.60</td>\n",
       "      <td>4.959032</td>\n",
       "    </tr>\n",
       "    <tr>\n",
       "      <th>93</th>\n",
       "      <td>11.8</td>\n",
       "      <td>41</td>\n",
       "      <td>25</td>\n",
       "      <td>4</td>\n",
       "      <td>1.153358e-10</td>\n",
       "      <td>10750.117337</td>\n",
       "      <td>44.982529</td>\n",
       "      <td>1.640000</td>\n",
       "      <td>0.416154</td>\n",
       "      <td>10.25</td>\n",
       "      <td>5.369183</td>\n",
       "    </tr>\n",
       "    <tr>\n",
       "      <th>94</th>\n",
       "      <td>11.9</td>\n",
       "      <td>63</td>\n",
       "      <td>13</td>\n",
       "      <td>3</td>\n",
       "      <td>1.162992e-10</td>\n",
       "      <td>10661.066593</td>\n",
       "      <td>44.224174</td>\n",
       "      <td>4.846154</td>\n",
       "      <td>1.476257</td>\n",
       "      <td>21.00</td>\n",
       "      <td>12.409674</td>\n",
       "    </tr>\n",
       "    <tr>\n",
       "      <th>95</th>\n",
       "      <td>12.0</td>\n",
       "      <td>39</td>\n",
       "      <td>12</td>\n",
       "      <td>5</td>\n",
       "      <td>1.172622e-10</td>\n",
       "      <td>10573.511012</td>\n",
       "      <td>43.484696</td>\n",
       "      <td>3.250000</td>\n",
       "      <td>1.072866</td>\n",
       "      <td>7.80</td>\n",
       "      <td>3.705132</td>\n",
       "    </tr>\n",
       "  </tbody>\n",
       "</table>\n",
       "<p>96 rows × 11 columns</p>\n",
       "</div>"
      ],
      "text/plain": [
       "    theta  nofilter  zr  mo  theta_wavelength      theta_eV  sigma_theta_eV  \\\n",
       "0     2.5         2   3   4      2.460133e-11  50398.611377     1009.060467   \n",
       "1     2.6         2   7   2      2.558473e-11  48461.458184      932.908927   \n",
       "2     2.7         3   2   2      2.656804e-11  46667.845257      865.060952   \n",
       "3     2.8         2   3   2      2.755127e-11  45002.393287      804.351772   \n",
       "4     2.9         1   7   0      2.853442e-11  43451.844249      749.813914   \n",
       "..    ...       ...  ..  ..               ...           ...             ...   \n",
       "91   11.6        65  16   2      1.134079e-10  10932.858962       46.558491   \n",
       "92   11.7        53  22   5      1.143720e-10  10840.701576       45.760409   \n",
       "93   11.8        41  25   4      1.153358e-10  10750.117337       44.982529   \n",
       "94   11.9        63  13   3      1.162992e-10  10661.066593       44.224174   \n",
       "95   12.0        39  12   5      1.172622e-10  10573.511012       43.484696   \n",
       "\n",
       "    nofilter_zr  sigma_nofilter_zr  nofilter_mo  sigma_nofilter_mo  \n",
       "0      0.666667           0.608581         0.50           0.433013  \n",
       "1      0.285714           0.229081         1.00           1.000000  \n",
       "2      1.500000           1.369306         1.50           1.369306  \n",
       "3      0.666667           0.608581         1.00           1.000000  \n",
       "4      0.142857           0.152721          inf                inf  \n",
       "..          ...                ...          ...                ...  \n",
       "91     4.062500           1.133755        32.50          23.331845  \n",
       "92     2.409091           0.610991        10.60           4.959032  \n",
       "93     1.640000           0.416154        10.25           5.369183  \n",
       "94     4.846154           1.476257        21.00          12.409674  \n",
       "95     3.250000           1.072866         7.80           3.705132  \n",
       "\n",
       "[96 rows x 11 columns]"
      ]
     },
     "execution_count": 51,
     "metadata": {},
     "output_type": "execute_result"
    }
   ],
   "source": [
    "data"
   ]
  },
  {
   "cell_type": "code",
   "execution_count": 22,
   "metadata": {},
   "outputs": [
    {
     "data": {
      "image/png": "[encoded data removed]",
      "text/plain": [
       "<Figure size 432x288 with 1 Axes>"
      ]
     },
     "metadata": {
      "needs_background": "light"
     },
     "output_type": "display_data"
    }
   ],
   "source": [
    "\n",
    "plt.errorbar(data['theta_eV'],data['nofilter'], xerr = data['sigma_theta_eV'], yerr = np.sqrt(data['nofilter']), fmt=  '-', color = 'red', label = 'Sem Filtro')\n",
    "plt.errorbar(data['theta_eV'],data['zr'], xerr = data['sigma_theta_eV'], yerr = np.sqrt(data['zr']), fmt = '-', label = 'Filtro de Zr')\n",
    "plt.errorbar(data['theta_eV'],data['mo'], xerr = data['sigma_theta_eV'], yerr = np.sqrt(data['mo']), fmt = '-', label = 'Filtro de Mo')\n",
    "\n",
    "plt.xlabel('Energia (eV)')\n",
    "plt.ylabel('Intensidade (cps)')\n",
    "\n",
    "plt.legend()\n",
    "\n",
    "plt.savefig('all_data.png',dpi = 300)"
   ]
  },
  {
   "cell_type": "code",
   "execution_count": 54,
   "metadata": {},
   "outputs": [
    {
     "data": {
      "image/png": "[encoded data removed]",
      "text/plain": [
       "<Figure size 432x288 with 1 Axes>"
      ]
     },
     "metadata": {
      "needs_background": "light"
     },
     "output_type": "display_data"
    }
   ],
   "source": [
    "# plt.plot(data['theta_eV'],data['nofilter_zr'], '.')\n",
    "\n",
    "peak_nofilter_zr,_ = find_peaks(data['nofilter_zr'], height = 0,distance = 8)\n",
    "\n",
    "\n",
    "plt.errorbar(data['theta_eV'],data['nofilter_zr'] ,xerr = data['sigma_theta_eV'],yerr = data['sigma_nofilter_zr'], fmt = '.', color = 'red')\n",
    "             \n",
    "plt.plot(data['theta_eV'][mask_zr_1],data['nofilter_zr'][mask_zr_1], 'o', color = 'blue')\n",
    "plt.plot(data['theta_eV'][mask_zr_2],data['nofilter_zr'][mask_zr_2], 'o', color = 'blue')\n",
    "plt.vlines(35e3,-0,14,linestyles='dashed', label = '35keV')\n",
    "plt.title('No Filter/ Zr Filter')\n",
    "\n",
    "plt.xlabel('Energia (eV)')\n",
    "plt.ylabel('Absortância (ad.)')\n",
    "\n",
    "plt.legend()\n",
    "\n",
    "plt.tight_layout()\n",
    "plt.savefig('nofilter_zr.png', dpi = 300)"
   ]
  },
  {
   "cell_type": "code",
   "execution_count": 24,
   "metadata": {},
   "outputs": [],
   "source": [
    "mask_zr_1 = (data['nofilter_zr'].index == 47)\n",
    "mask_zr_2 = (data['nofilter_zr'].index == 43)"
   ]
  },
  {
   "cell_type": "code",
   "execution_count": 76,
   "metadata": {},
   "outputs": [
    {
     "data": {
      "text/plain": [
       "47    17540.092837\n",
       "Name: theta_eV, dtype: float64"
      ]
     },
     "execution_count": 76,
     "metadata": {},
     "output_type": "execute_result"
    }
   ],
   "source": [
    "data['theta_eV'][mask_zr_1]"
   ]
  },
  {
   "cell_type": "code",
   "execution_count": 77,
   "metadata": {},
   "outputs": [
    {
     "data": {
      "text/plain": [
       "43    18566.578332\n",
       "Name: theta_eV, dtype: float64"
      ]
     },
     "execution_count": 77,
     "metadata": {},
     "output_type": "execute_result"
    }
   ],
   "source": [
    "data['theta_eV'][mask_zr_2]"
   ]
  },
  {
   "cell_type": "code",
   "execution_count": 56,
   "metadata": {},
   "outputs": [
    {
     "data": {
      "image/png": "[encoded data removed]",
      "text/plain": [
       "<Figure size 432x288 with 1 Axes>"
      ]
     },
     "metadata": {
      "needs_background": "light"
     },
     "output_type": "display_data"
    }
   ],
   "source": [
    "# peak_nofilter_mo,_ = find_peaks(data['nofilter_mo'], height = 0,distance = 8)\n",
    "\n",
    "\n",
    "plt.errorbar(data['theta_eV'],data['nofilter_mo'] ,xerr = data['sigma_theta_eV'],yerr = data['sigma_nofilter_mo'], fmt = '.', color = 'red')\n",
    "plt.plot(data['theta_eV'][mask_mo_1],data['nofilter_mo'][mask_mo_1], 'o', color = 'blue')\n",
    "plt.plot(data['theta_eV'][mask_mo_2],data['nofilter_mo'][mask_mo_2], 'o', color = 'blue')\n",
    "plt.vlines(35e3,-10,800,linestyles='dashed', label = '35keV')\n",
    "plt.title('No Filter/ Mo Filter')\n",
    "plt.legend()\n",
    "\n",
    "plt.xlabel('Energia (eV)')\n",
    "plt.ylabel('Absortância (ad.)')\n",
    "\n",
    "plt.tight_layout()\n",
    "plt.savefig('nofilter_mo_2.png', dpi = 300)"
   ]
  },
  {
   "cell_type": "code",
   "execution_count": 32,
   "metadata": {},
   "outputs": [],
   "source": [
    "mask_mo_1 = (data['nofilter_mo'].index == 34)\n",
    "mask_mo_2 = (data['nofilter_mo'].index == 38)"
   ]
  },
  {
   "cell_type": "code",
   "execution_count": 128,
   "metadata": {},
   "outputs": [
    {
     "data": {
      "text/plain": [
       "34    21386.344\n",
       "Name: theta_eV, dtype: float64"
      ]
     },
     "execution_count": 128,
     "metadata": {},
     "output_type": "execute_result"
    }
   ],
   "source": [
    "data['theta_eV'][mask_mo_1]"
   ]
  },
  {
   "cell_type": "code",
   "execution_count": 129,
   "metadata": {},
   "outputs": [
    {
     "data": {
      "text/plain": [
       "38    20033.447428\n",
       "Name: theta_eV, dtype: float64"
      ]
     },
     "execution_count": 129,
     "metadata": {},
     "output_type": "execute_result"
    }
   ],
   "source": [
    "data['theta_eV'][mask_mo_2]"
   ]
  },
  {
   "cell_type": "code",
   "execution_count": null,
   "metadata": {},
   "outputs": [],
   "source": []
  }
 ],
 "metadata": {
  "kernelspec": {
   "display_name": "Python 3",
   "language": "python",
   "name": "python3"
  },
  "language_info": {
   "codemirror_mode": {
    "name": "ipython",
    "version": 3
   },
   "file_extension": ".py",
   "mimetype": "text/x-python",
   "name": "python",
   "nbconvert_exporter": "python",
   "pygments_lexer": "ipython3",
   "version": "3.8.5"
  }
 },
 "nbformat": 4,
 "nbformat_minor": 4
}
